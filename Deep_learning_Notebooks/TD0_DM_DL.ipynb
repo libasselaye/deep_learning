{
 "cells": [
  {
   "cell_type": "markdown",
   "metadata": {},
   "source": [
    "# Logistic regression as a perceptron with no hidden layer\n",
    "## Régression logistique en tant que perceptron sans couche cachée"
   ]
  },
  {
   "cell_type": "markdown",
   "metadata": {},
   "source": [
    "This notebook is part of the course given by J. Velcin and J. Cugliari on Deep Learning at the University of Lyon 2."
   ]
  },
  {
   "cell_type": "code",
   "execution_count": 14,
   "metadata": {},
   "outputs": [],
   "source": [
    "from tensorflow.keras.models import Sequential\n",
    "\n",
    "model = Sequential() "
   ]
  },
  {
   "cell_type": "markdown",
   "metadata": {},
   "source": [
    "The LR can be seen as a *pipeline* of 2 modules:\n",
    "\n",
    "- an input layer of 4 variables\n",
    "- an output layer of 3 classes "
   ]
  },
  {
   "cell_type": "code",
   "execution_count": 15,
   "metadata": {},
   "outputs": [
    {
     "name": "stdout",
     "output_type": "stream",
     "text": [
      "Model: \"sequential_1\"\n",
      "_________________________________________________________________\n",
      " Layer (type)                Output Shape              Param #   \n",
      "=================================================================\n",
      " dense_1 (Dense)             (None, 3)                 15        \n",
      "                                                                 \n",
      "=================================================================\n",
      "Total params: 15\n",
      "Trainable params: 15\n",
      "Non-trainable params: 0\n",
      "_________________________________________________________________\n"
     ]
    }
   ],
   "source": [
    "#from keras.layers import Dense   # with TF 1\n",
    "from tensorflow.keras.layers import Dense   # with TF 2\n",
    "\n",
    "# solution 1 :\n",
    "model.add(Dense(units=3, activation='softmax', input_dim=4))\n",
    "\n",
    "# solution 2 :\n",
    "#model.add(Dense(units=3, activation='softmax', input_shape=(4,)))\n",
    "\n",
    "model.summary()"
   ]
  },
  {
   "cell_type": "code",
   "execution_count": 16,
   "metadata": {},
   "outputs": [
    {
     "data": {
      "text/plain": [
       "{'name': 'sequential_1',\n",
       " 'layers': [{'class_name': 'InputLayer',\n",
       "   'config': {'batch_input_shape': (None, 4),\n",
       "    'dtype': 'float32',\n",
       "    'sparse': False,\n",
       "    'ragged': False,\n",
       "    'name': 'dense_1_input'}},\n",
       "  {'class_name': 'Dense',\n",
       "   'config': {'name': 'dense_1',\n",
       "    'trainable': True,\n",
       "    'batch_input_shape': (None, 4),\n",
       "    'dtype': 'float32',\n",
       "    'units': 3,\n",
       "    'activation': 'softmax',\n",
       "    'use_bias': True,\n",
       "    'kernel_initializer': {'class_name': 'GlorotUniform',\n",
       "     'config': {'seed': None}},\n",
       "    'bias_initializer': {'class_name': 'Zeros', 'config': {}},\n",
       "    'kernel_regularizer': None,\n",
       "    'bias_regularizer': None,\n",
       "    'activity_regularizer': None,\n",
       "    'kernel_constraint': None,\n",
       "    'bias_constraint': None}}]}"
      ]
     },
     "execution_count": 16,
     "metadata": {},
     "output_type": "execute_result"
    }
   ],
   "source": [
    "model.get_config()"
   ]
  },
  {
   "cell_type": "markdown",
   "metadata": {},
   "source": [
    "We setup the model by defining the loss function, optimizer, evaluation measure."
   ]
  },
  {
   "cell_type": "code",
   "execution_count": 17,
   "metadata": {},
   "outputs": [],
   "source": [
    "model.compile(loss='categorical_crossentropy', # loss function\n",
    "              optimizer='sgd', # stochastic gradient descent\n",
    "              metrics=['accuracy'])"
   ]
  },
  {
   "cell_type": "markdown",
   "metadata": {},
   "source": [
    "Loading the iris dataset"
   ]
  },
  {
   "cell_type": "code",
   "execution_count": 18,
   "metadata": {},
   "outputs": [],
   "source": [
    "from sklearn.datasets import load_iris\n",
    "from sklearn.model_selection import train_test_split\n",
    "import numpy as np\n",
    "\n",
    "iris = load_iris()\n",
    "X, y = iris.data, iris.target\n",
    "train_X, test_X, train_y, test_y = train_test_split(X, y, \n",
    "                                                    train_size=0.5,\n",
    "                                                    test_size=0.5,\n",
    "                                                    random_state=123,\n",
    "                                                    stratify=y)"
   ]
  },
  {
   "cell_type": "markdown",
   "metadata": {},
   "source": [
    "We need to use a \"one hot encoding\" for the class to predict."
   ]
  },
  {
   "cell_type": "markdown",
   "metadata": {},
   "source": [
    "This means mapping integers to binary codes:\n",
    "- 0 -> (1,0,0)\n",
    "- 1 -> (0,1,0)\n",
    "- 2 -> (0,0,1)"
   ]
  },
  {
   "cell_type": "code",
   "execution_count": 19,
   "metadata": {},
   "outputs": [],
   "source": [
    "from tensorflow.keras.utils import to_categorical\n",
    "train_y_binary = to_categorical(train_y)\n",
    "test_y_binary = to_categorical(test_y)"
   ]
  },
  {
   "cell_type": "code",
   "execution_count": 20,
   "metadata": {},
   "outputs": [
    {
     "data": {
      "text/plain": [
       "array([[0., 1., 0.],\n",
       "       [0., 1., 0.],\n",
       "       [0., 1., 0.],\n",
       "       [1., 0., 0.],\n",
       "       [1., 0., 0.],\n",
       "       [0., 0., 1.],\n",
       "       [0., 1., 0.],\n",
       "       [0., 1., 0.],\n",
       "       [0., 1., 0.],\n",
       "       [1., 0., 0.]], dtype=float32)"
      ]
     },
     "execution_count": 20,
     "metadata": {},
     "output_type": "execute_result"
    }
   ],
   "source": [
    "#print(train_y[0:10])\n",
    "train_y_binary[0:10]"
   ]
  },
  {
   "cell_type": "markdown",
   "metadata": {},
   "source": [
    "Test the efficiency of the network without any learning:"
   ]
  },
  {
   "cell_type": "code",
   "execution_count": 21,
   "metadata": {},
   "outputs": [
    {
     "name": "stdout",
     "output_type": "stream",
     "text": [
      "3/3 [==============================] - 0s 2ms/step - loss: 1.4705 - accuracy: 0.1467\n",
      "test score:  1.4705458879470825\n",
      "test accuracy:  0.14666666090488434\n"
     ]
    }
   ],
   "source": [
    "score = model.evaluate(test_X, test_y_binary)\n",
    "print(\"test score: \", score[0])\n",
    "print(\"test accuracy: \", score[1])"
   ]
  },
  {
   "cell_type": "markdown",
   "metadata": {},
   "source": [
    "Let's do learning:"
   ]
  },
  {
   "cell_type": "code",
   "execution_count": 24,
   "metadata": {},
   "outputs": [
    {
     "name": "stdout",
     "output_type": "stream",
     "text": [
      "Epoch 1/100\n",
      "8/8 [==============================] - 0s 1ms/step - loss: 0.3635 - accuracy: 0.9867\n",
      "Epoch 2/100\n",
      "8/8 [==============================] - 0s 1ms/step - loss: 0.3703 - accuracy: 0.9733\n",
      "Epoch 3/100\n",
      "8/8 [==============================] - 0s 1000us/step - loss: 0.3652 - accuracy: 0.9867\n",
      "Epoch 4/100\n",
      "8/8 [==============================] - 0s 2ms/step - loss: 0.3586 - accuracy: 0.9867\n",
      "Epoch 5/100\n",
      "8/8 [==============================] - 0s 2ms/step - loss: 0.3628 - accuracy: 0.9333\n",
      "Epoch 6/100\n",
      "8/8 [==============================] - 0s 2ms/step - loss: 0.3652 - accuracy: 0.9733\n",
      "Epoch 7/100\n",
      "8/8 [==============================] - 0s 1ms/step - loss: 0.3594 - accuracy: 0.9200\n",
      "Epoch 8/100\n",
      "8/8 [==============================] - 0s 1ms/step - loss: 0.3592 - accuracy: 0.9600\n",
      "Epoch 9/100\n",
      "8/8 [==============================] - 0s 1ms/step - loss: 0.3610 - accuracy: 0.9733\n",
      "Epoch 10/100\n",
      "8/8 [==============================] - 0s 2ms/step - loss: 0.3527 - accuracy: 0.9733\n",
      "Epoch 11/100\n",
      "8/8 [==============================] - 0s 2ms/step - loss: 0.3519 - accuracy: 0.9600\n",
      "Epoch 12/100\n",
      "8/8 [==============================] - 0s 1ms/step - loss: 0.3513 - accuracy: 0.9867\n",
      "Epoch 13/100\n",
      "8/8 [==============================] - 0s 1ms/step - loss: 0.3530 - accuracy: 0.9600\n",
      "Epoch 14/100\n",
      "8/8 [==============================] - 0s 1ms/step - loss: 0.3480 - accuracy: 0.9867\n",
      "Epoch 15/100\n",
      "8/8 [==============================] - 0s 1ms/step - loss: 0.3516 - accuracy: 0.9867\n",
      "Epoch 16/100\n",
      "8/8 [==============================] - 0s 1ms/step - loss: 0.3520 - accuracy: 0.9600\n",
      "Epoch 17/100\n",
      "8/8 [==============================] - 0s 1000us/step - loss: 0.3469 - accuracy: 0.9733\n",
      "Epoch 18/100\n",
      "8/8 [==============================] - 0s 2ms/step - loss: 0.3468 - accuracy: 0.9467\n",
      "Epoch 19/100\n",
      "8/8 [==============================] - 0s 1ms/step - loss: 0.3473 - accuracy: 0.9733\n",
      "Epoch 20/100\n",
      "8/8 [==============================] - 0s 999us/step - loss: 0.3482 - accuracy: 0.9867\n",
      "Epoch 21/100\n",
      "8/8 [==============================] - 0s 1ms/step - loss: 0.3429 - accuracy: 0.9867\n",
      "Epoch 22/100\n",
      "8/8 [==============================] - 0s 2ms/step - loss: 0.3438 - accuracy: 0.9867\n",
      "Epoch 23/100\n",
      "8/8 [==============================] - 0s 2ms/step - loss: 0.3451 - accuracy: 0.9600\n",
      "Epoch 24/100\n",
      "8/8 [==============================] - 0s 1ms/step - loss: 0.3436 - accuracy: 0.9867\n",
      "Epoch 25/100\n",
      "8/8 [==============================] - 0s 997us/step - loss: 0.3398 - accuracy: 0.9733\n",
      "Epoch 26/100\n",
      "8/8 [==============================] - 0s 1ms/step - loss: 0.3382 - accuracy: 0.9733\n",
      "Epoch 27/100\n",
      "8/8 [==============================] - 0s 2ms/step - loss: 0.3374 - accuracy: 0.9867\n",
      "Epoch 28/100\n",
      "8/8 [==============================] - 0s 2ms/step - loss: 0.3402 - accuracy: 0.9600\n",
      "Epoch 29/100\n",
      "8/8 [==============================] - 0s 1ms/step - loss: 0.3375 - accuracy: 0.9867\n",
      "Epoch 30/100\n",
      "8/8 [==============================] - 0s 1ms/step - loss: 0.3417 - accuracy: 0.9867\n",
      "Epoch 31/100\n",
      "8/8 [==============================] - 0s 857us/step - loss: 0.3326 - accuracy: 0.9867\n",
      "Epoch 32/100\n",
      "8/8 [==============================] - 0s 1ms/step - loss: 0.3360 - accuracy: 0.9600\n",
      "Epoch 33/100\n",
      "8/8 [==============================] - 0s 2ms/step - loss: 0.3327 - accuracy: 0.9467\n",
      "Epoch 34/100\n",
      "8/8 [==============================] - 0s 2ms/step - loss: 0.3344 - accuracy: 0.9867\n",
      "Epoch 35/100\n",
      "8/8 [==============================] - 0s 1ms/step - loss: 0.3341 - accuracy: 0.9733\n",
      "Epoch 36/100\n",
      "8/8 [==============================] - 0s 999us/step - loss: 0.3282 - accuracy: 0.9733\n",
      "Epoch 37/100\n",
      "8/8 [==============================] - 0s 2ms/step - loss: 0.3276 - accuracy: 0.9867\n",
      "Epoch 38/100\n",
      "8/8 [==============================] - 0s 3ms/step - loss: 0.3322 - accuracy: 0.9867\n",
      "Epoch 39/100\n",
      "8/8 [==============================] - 0s 999us/step - loss: 0.3356 - accuracy: 0.9733\n",
      "Epoch 40/100\n",
      "8/8 [==============================] - 0s 1000us/step - loss: 0.3243 - accuracy: 0.9867\n",
      "Epoch 41/100\n",
      "8/8 [==============================] - 0s 2ms/step - loss: 0.3227 - accuracy: 0.9867\n",
      "Epoch 42/100\n",
      "8/8 [==============================] - 0s 1ms/step - loss: 0.3258 - accuracy: 0.9867\n",
      "Epoch 43/100\n",
      "8/8 [==============================] - 0s 1ms/step - loss: 0.3239 - accuracy: 0.9867\n",
      "Epoch 44/100\n",
      "8/8 [==============================] - 0s 1000us/step - loss: 0.3253 - accuracy: 0.9867\n",
      "Epoch 45/100\n",
      "8/8 [==============================] - 0s 2ms/step - loss: 0.3268 - accuracy: 0.9600\n",
      "Epoch 46/100\n",
      "8/8 [==============================] - 0s 2ms/step - loss: 0.3197 - accuracy: 0.9733\n",
      "Epoch 47/100\n",
      "8/8 [==============================] - 0s 1ms/step - loss: 0.3253 - accuracy: 0.9600\n",
      "Epoch 48/100\n",
      "8/8 [==============================] - 0s 1ms/step - loss: 0.3214 - accuracy: 0.9867\n",
      "Epoch 49/100\n",
      "8/8 [==============================] - 0s 1ms/step - loss: 0.3216 - accuracy: 0.9867\n",
      "Epoch 50/100\n",
      "8/8 [==============================] - 0s 1ms/step - loss: 0.3217 - accuracy: 0.9600\n",
      "Epoch 51/100\n",
      "8/8 [==============================] - 0s 1ms/step - loss: 0.3229 - accuracy: 0.9733\n",
      "Epoch 52/100\n",
      "8/8 [==============================] - 0s 1000us/step - loss: 0.3159 - accuracy: 0.9867\n",
      "Epoch 53/100\n",
      "8/8 [==============================] - 0s 1ms/step - loss: 0.3153 - accuracy: 0.9867\n",
      "Epoch 54/100\n",
      "8/8 [==============================] - 0s 2ms/step - loss: 0.3125 - accuracy: 0.9867\n",
      "Epoch 55/100\n",
      "8/8 [==============================] - 0s 1ms/step - loss: 0.3134 - accuracy: 0.9733\n",
      "Epoch 56/100\n",
      "8/8 [==============================] - 0s 1ms/step - loss: 0.3139 - accuracy: 0.9867\n",
      "Epoch 57/100\n",
      "8/8 [==============================] - 0s 1ms/step - loss: 0.3242 - accuracy: 0.9600\n",
      "Epoch 58/100\n",
      "8/8 [==============================] - 0s 857us/step - loss: 0.3100 - accuracy: 0.9867\n",
      "Epoch 59/100\n",
      "8/8 [==============================] - 0s 1ms/step - loss: 0.3120 - accuracy: 0.9867\n",
      "Epoch 60/100\n",
      "8/8 [==============================] - 0s 1ms/step - loss: 0.3102 - accuracy: 0.9867\n",
      "Epoch 61/100\n",
      "8/8 [==============================] - 0s 857us/step - loss: 0.3080 - accuracy: 0.9867\n",
      "Epoch 62/100\n",
      "8/8 [==============================] - 0s 1ms/step - loss: 0.3086 - accuracy: 0.9867\n",
      "Epoch 63/100\n",
      "8/8 [==============================] - 0s 2ms/step - loss: 0.3073 - accuracy: 0.9867\n",
      "Epoch 64/100\n",
      "8/8 [==============================] - 0s 1ms/step - loss: 0.3062 - accuracy: 0.9867\n",
      "Epoch 65/100\n",
      "8/8 [==============================] - 0s 857us/step - loss: 0.3038 - accuracy: 0.9867\n",
      "Epoch 66/100\n",
      "8/8 [==============================] - 0s 860us/step - loss: 0.3075 - accuracy: 0.9867\n",
      "Epoch 67/100\n",
      "8/8 [==============================] - 0s 1ms/step - loss: 0.3048 - accuracy: 0.9867\n",
      "Epoch 68/100\n",
      "8/8 [==============================] - 0s 1ms/step - loss: 0.3054 - accuracy: 0.9467\n",
      "Epoch 69/100\n",
      "8/8 [==============================] - 0s 1000us/step - loss: 0.3098 - accuracy: 0.9867\n",
      "Epoch 70/100\n",
      "8/8 [==============================] - 0s 1ms/step - loss: 0.3019 - accuracy: 0.9867\n",
      "Epoch 71/100\n",
      "8/8 [==============================] - 0s 1ms/step - loss: 0.3065 - accuracy: 0.9867\n",
      "Epoch 72/100\n",
      "8/8 [==============================] - 0s 1ms/step - loss: 0.3018 - accuracy: 0.9733\n",
      "Epoch 73/100\n",
      "8/8 [==============================] - 0s 1ms/step - loss: 0.3082 - accuracy: 0.9867\n",
      "Epoch 74/100\n",
      "8/8 [==============================] - 0s 999us/step - loss: 0.2994 - accuracy: 0.9867\n",
      "Epoch 75/100\n",
      "8/8 [==============================] - 0s 2ms/step - loss: 0.2982 - accuracy: 0.9867\n",
      "Epoch 76/100\n",
      "8/8 [==============================] - 0s 1ms/step - loss: 0.3005 - accuracy: 0.9600\n",
      "Epoch 77/100\n",
      "8/8 [==============================] - 0s 1ms/step - loss: 0.2978 - accuracy: 0.9867\n",
      "Epoch 78/100\n",
      "8/8 [==============================] - 0s 1ms/step - loss: 0.2973 - accuracy: 0.9867\n",
      "Epoch 79/100\n",
      "8/8 [==============================] - 0s 1ms/step - loss: 0.2986 - accuracy: 0.9867\n",
      "Epoch 80/100\n",
      "8/8 [==============================] - 0s 1ms/step - loss: 0.2994 - accuracy: 0.9600\n",
      "Epoch 81/100\n",
      "8/8 [==============================] - 0s 1000us/step - loss: 0.2978 - accuracy: 0.9867\n",
      "Epoch 82/100\n",
      "8/8 [==============================] - 0s 857us/step - loss: 0.2962 - accuracy: 0.9867\n",
      "Epoch 83/100\n",
      "8/8 [==============================] - 0s 1ms/step - loss: 0.2990 - accuracy: 0.9867\n",
      "Epoch 84/100\n",
      "8/8 [==============================] - 0s 1ms/step - loss: 0.2925 - accuracy: 0.9867\n",
      "Epoch 85/100\n",
      "8/8 [==============================] - 0s 856us/step - loss: 0.2924 - accuracy: 0.9733\n",
      "Epoch 86/100\n",
      "8/8 [==============================] - 0s 2ms/step - loss: 0.2938 - accuracy: 0.9867\n",
      "Epoch 87/100\n",
      "8/8 [==============================] - 0s 1ms/step - loss: 0.2922 - accuracy: 0.9867\n",
      "Epoch 88/100\n",
      "8/8 [==============================] - 0s 1ms/step - loss: 0.2959 - accuracy: 0.9867\n",
      "Epoch 89/100\n",
      "8/8 [==============================] - 0s 857us/step - loss: 0.2901 - accuracy: 0.9867\n",
      "Epoch 90/100\n",
      "8/8 [==============================] - 0s 1ms/step - loss: 0.2899 - accuracy: 0.9867\n",
      "Epoch 91/100\n",
      "8/8 [==============================] - 0s 1ms/step - loss: 0.2878 - accuracy: 0.9867\n",
      "Epoch 92/100\n",
      "8/8 [==============================] - 0s 2ms/step - loss: 0.2866 - accuracy: 0.9867\n",
      "Epoch 93/100\n",
      "8/8 [==============================] - 0s 1ms/step - loss: 0.2881 - accuracy: 0.9867\n",
      "Epoch 94/100\n",
      "8/8 [==============================] - 0s 1ms/step - loss: 0.2865 - accuracy: 0.9867\n",
      "Epoch 95/100\n",
      "8/8 [==============================] - 0s 857us/step - loss: 0.2877 - accuracy: 0.9867\n",
      "Epoch 96/100\n",
      "8/8 [==============================] - 0s 1ms/step - loss: 0.2869 - accuracy: 0.9867\n",
      "Epoch 97/100\n",
      "8/8 [==============================] - 0s 802us/step - loss: 0.2835 - accuracy: 0.9867\n",
      "Epoch 98/100\n",
      "8/8 [==============================] - 0s 1000us/step - loss: 0.2856 - accuracy: 0.9733\n",
      "Epoch 99/100\n",
      "8/8 [==============================] - 0s 3ms/step - loss: 0.2853 - accuracy: 0.9867\n",
      "Epoch 100/100\n",
      "8/8 [==============================] - 0s 857us/step - loss: 0.2871 - accuracy: 0.9467\n"
     ]
    }
   ],
   "source": [
    "history = model.fit(train_X, train_y_binary, batch_size=10, epochs=100)\n",
    "#epochs : nombre de passage global sur l'echantillon; maximum s'il converge pas \n",
    "#batch_size = permet de specifier aprés quel nombre d'individus il va recalculer les poids synaptique "
   ]
  },
  {
   "cell_type": "code",
   "execution_count": 25,
   "metadata": {},
   "outputs": [
    {
     "name": "stdout",
     "output_type": "stream",
     "text": [
      "3/3 [==============================] - 0s 2ms/step - loss: 0.2907 - accuracy: 0.9467\n",
      "test score:  0.29066458344459534\n",
      "test accuracy:  0.9466666579246521\n"
     ]
    }
   ],
   "source": [
    "score = model.evaluate(test_X, test_y_binary)\n",
    "print(\"test score: \", score[0])\n",
    "print(\"test accuracy: \", score[1])"
   ]
  },
  {
   "cell_type": "code",
   "execution_count": null,
   "metadata": {},
   "outputs": [],
   "source": []
  }
 ],
 "metadata": {
  "kernelspec": {
   "display_name": "Python 3 (ipykernel)",
   "language": "python",
   "name": "python3"
  },
  "language_info": {
   "codemirror_mode": {
    "name": "ipython",
    "version": 3
   },
   "file_extension": ".py",
   "mimetype": "text/x-python",
   "name": "python",
   "nbconvert_exporter": "python",
   "pygments_lexer": "ipython3",
   "version": "3.8.8"
  }
 },
 "nbformat": 4,
 "nbformat_minor": 2
}
