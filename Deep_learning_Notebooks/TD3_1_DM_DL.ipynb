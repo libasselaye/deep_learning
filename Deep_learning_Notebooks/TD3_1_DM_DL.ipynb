{
 "cells": [
  {
   "cell_type": "markdown",
   "metadata": {},
   "source": [
    "# TD3 1/2 : prise en compte naïve de l'ordre des mots"
   ]
  },
  {
   "cell_type": "code",
   "execution_count": 3,
   "metadata": {},
   "outputs": [],
   "source": [
    "import os\n",
    "\n",
    "with open(os.path.join(\"SMSSpamCollection.txt\")) as f:\n",
    "    lines = [line.strip().split(\"\\t\") for line in f.readlines()]\n",
    "\n",
    "text = [x[1] for x in lines]\n",
    "y = [int(x[0] == \"spam\") for x in lines]\n",
    "\n",
    "from tensorflow.keras.preprocessing.text import one_hot\n",
    "\n",
    "# note that the index construction is based on hashing so that a small size will inscrease the risk of collision\n",
    "vocab_size = 10000\n",
    "encoded_docs = [one_hot(d, vocab_size) for d in text]\n",
    "\n",
    "#pad documents to a max length of 10 words\n",
    "\n",
    "from tensorflow.keras.preprocessing.sequence import pad_sequences\n",
    "\n",
    "max_length = 10\n",
    "padded_docs = pad_sequences(encoded_docs, maxlen=max_length, padding='post')\n",
    "\n",
    "from sklearn.model_selection import train_test_split\n",
    "\n",
    "train_X, test_X, train_y, test_y = train_test_split(padded_docs, y, \n",
    "                                                    train_size=0.7,\n",
    "                                                    test_size=0.3,\n",
    "                                                    random_state=123)"
   ]
  },
  {
   "cell_type": "markdown",
   "metadata": {},
   "source": [
    "On est obligé de calculer le OHE pour la description des données en entrée"
   ]
  },
  {
   "cell_type": "code",
   "execution_count": 3,
   "metadata": {},
   "outputs": [
    {
     "data": {
      "text/plain": [
       "array([[1596, 4058, 3065, 7112, 4214, 4214, 4639, 3410, 6714, 4258],\n",
       "       [7227, 9039, 1760, 9163, 2287, 9223, 8695, 3970, 7491, 7829],\n",
       "       [7451, 1148,  534, 3696, 9503, 9670, 3694, 6567, 5384, 6572],\n",
       "       [6836, 3675, 6420, 9137, 8978, 8888,    0,    0,    0,    0],\n",
       "       [9028, 9116, 4488, 9889,   67, 9915, 6636, 2277, 9432, 7019]],\n",
       "      dtype=int32)"
      ]
     },
     "execution_count": 3,
     "metadata": {},
     "output_type": "execute_result"
    }
   ],
   "source": [
    "train_X[0:5]"
   ]
  },
  {
   "cell_type": "code",
   "execution_count": 5,
   "metadata": {},
   "outputs": [],
   "source": [
    "from tensorflow.keras.utils import to_categorical\n",
    "\n",
    "train_X_binary = to_categorical(train_X, num_classes=vocab_size)\n",
    "test_X_binary = to_categorical(test_X, num_classes=vocab_size)"
   ]
  },
  {
   "cell_type": "markdown",
   "metadata": {},
   "source": [
    "On concatène \"à la main\" les vecteurs pour chacun des mots qui constituent le document (opération \"flatten\" qu'on automatisera par la suite)."
   ]
  },
  {
   "cell_type": "code",
   "execution_count": 11,
   "metadata": {},
   "outputs": [],
   "source": [
    "import numpy as np\n",
    "\n",
    "nb_ex_train = train_X.shape[0]\n",
    "new_train_X = []\n",
    "for i in range(nb_ex_train):\n",
    "    d = train_X_binary[i,:,:]\n",
    "    d_r = d.reshape((max_length*vocab_size))\n",
    "    new_train_X.append(d_r)\n",
    "new_train_X = np.asarray(new_train_X)\n",
    "\n",
    "nb_ex_test = test_X.shape[0]\n",
    "new_test_X = []\n",
    "for i in range(nb_ex_test):\n",
    "    d = test_X_binary[i,:,:]\n",
    "    d_r = d.reshape((max_length*vocab_size))\n",
    "    new_test_X.append(d_r)\n",
    "new_test_X = np.asarray(new_test_X)"
   ]
  },
  {
   "cell_type": "markdown",
   "metadata": {},
   "source": [
    "Le modèle est un MLP qui comprend des poids associés à la position des mots dans le document (token)."
   ]
  },
  {
   "cell_type": "code",
   "execution_count": 12,
   "metadata": {},
   "outputs": [
    {
     "name": "stdout",
     "output_type": "stream",
     "text": [
      "Metal device set to: Apple M1\n",
      "Model: \"sequential\"\n",
      "_________________________________________________________________\n",
      "Layer (type)                 Output Shape              Param #   \n",
      "=================================================================\n",
      "dense (Dense)                (None, 8)                 800008    \n",
      "_________________________________________________________________\n",
      "dense_1 (Dense)              (None, 1)                 9         \n",
      "=================================================================\n",
      "Total params: 800,017\n",
      "Trainable params: 800,017\n",
      "Non-trainable params: 0\n",
      "_________________________________________________________________\n",
      "None\n"
     ]
    },
    {
     "name": "stderr",
     "output_type": "stream",
     "text": [
      "2021-12-07 10:34:30.666244: I tensorflow/core/common_runtime/pluggable_device/pluggable_device_factory.cc:305] Could not identify NUMA node of platform GPU ID 0, defaulting to 0. Your kernel may not have been built with NUMA support.\n",
      "2021-12-07 10:34:30.666530: I tensorflow/core/common_runtime/pluggable_device/pluggable_device_factory.cc:271] Created TensorFlow device (/job:localhost/replica:0/task:0/device:GPU:0 with 0 MB memory) -> physical PluggableDevice (device: 0, name: METAL, pci bus id: <undefined>)\n"
     ]
    }
   ],
   "source": [
    "from tensorflow.keras.models import Sequential\n",
    "from tensorflow.keras.layers import Dense\n",
    "\n",
    "def seq_model():\n",
    "    model = Sequential()\n",
    "    model.add(Dense(8, activation='relu', input_dim=max_length*vocab_size))\n",
    "    model.add(Dense(1, activation='sigmoid'))\n",
    "    model.compile(optimizer='adam', loss='binary_crossentropy', metrics=['acc'])\n",
    "    return model\n",
    "\n",
    "sm = seq_model()\n",
    "\n",
    "# summarize the model\n",
    "print(sm.summary())"
   ]
  },
  {
   "cell_type": "code",
   "execution_count": 13,
   "metadata": {},
   "outputs": [],
   "source": [
    "train_y = np.array(train_y)\n",
    "test_y = np.array(test_y)"
   ]
  },
  {
   "cell_type": "code",
   "execution_count": 14,
   "metadata": {},
   "outputs": [
    {
     "name": "stderr",
     "output_type": "stream",
     "text": [
      "2021-12-07 10:34:41.054863: I tensorflow/compiler/mlir/mlir_graph_optimization_pass.cc:176] None of the MLIR Optimization Passes are enabled (registered 2)\n",
      "2021-12-07 10:34:41.055080: W tensorflow/core/platform/profile_utils/cpu_utils.cc:128] Failed to get CPU frequency: 0 Hz\n",
      "2021-12-07 10:34:41.199611: I tensorflow/core/grappler/optimizers/custom_graph_optimizer_registry.cc:112] Plugin optimizer for device_type GPU is enabled.\n"
     ]
    },
    {
     "name": "stdout",
     "output_type": "stream",
     "text": [
      "Epoch 1/10\n",
      "122/122 [==============================] - 11s 85ms/step - loss: 0.5023 - acc: 0.8726\n",
      "Epoch 2/10\n",
      "122/122 [==============================] - 10s 83ms/step - loss: 0.2427 - acc: 0.9254\n",
      "Epoch 3/10\n",
      "122/122 [==============================] - 10s 83ms/step - loss: 0.1330 - acc: 0.9772\n",
      "Epoch 4/10\n",
      "122/122 [==============================] - 10s 83ms/step - loss: 0.0778 - acc: 0.9895\n",
      "Epoch 5/10\n",
      "122/122 [==============================] - 10s 83ms/step - loss: 0.0495 - acc: 0.9944\n",
      "Epoch 6/10\n",
      "122/122 [==============================] - 10s 83ms/step - loss: 0.0336 - acc: 0.9959\n",
      "Epoch 7/10\n",
      "122/122 [==============================] - 10s 83ms/step - loss: 0.0239 - acc: 0.9969\n",
      "Epoch 8/10\n",
      "122/122 [==============================] - 10s 83ms/step - loss: 0.0176 - acc: 0.9979\n",
      "Epoch 9/10\n",
      "122/122 [==============================] - 10s 83ms/step - loss: 0.0134 - acc: 0.9985\n",
      "Epoch 10/10\n",
      "122/122 [==============================] - 10s 83ms/step - loss: 0.0104 - acc: 0.9987\n"
     ]
    },
    {
     "data": {
      "text/plain": [
       "<tensorflow.python.keras.callbacks.History at 0x3b572a1f0>"
      ]
     },
     "execution_count": 14,
     "metadata": {},
     "output_type": "execute_result"
    }
   ],
   "source": [
    "sm.fit(new_train_X, train_y, epochs=10, verbose=1)"
   ]
  },
  {
   "cell_type": "code",
   "execution_count": 15,
   "metadata": {},
   "outputs": [
    {
     "name": "stderr",
     "output_type": "stream",
     "text": [
      "2021-12-07 10:36:22.906864: I tensorflow/core/grappler/optimizers/custom_graph_optimizer_registry.cc:112] Plugin optimizer for device_type GPU is enabled.\n"
     ]
    },
    {
     "name": "stdout",
     "output_type": "stream",
     "text": [
      "Accuracy: 97.429770\n"
     ]
    }
   ],
   "source": [
    "loss, accuracy = sm.evaluate(new_test_X, test_y, verbose=0)\n",
    "print('Accuracy: %f' % (accuracy*100))"
   ]
  },
  {
   "cell_type": "code",
   "execution_count": null,
   "metadata": {},
   "outputs": [],
   "source": []
  }
 ],
 "metadata": {
  "kernelspec": {
   "display_name": "Python 3 (ipykernel)",
   "language": "python",
   "name": "python3"
  },
  "language_info": {
   "codemirror_mode": {
    "name": "ipython",
    "version": 3
   },
   "file_extension": ".py",
   "mimetype": "text/x-python",
   "name": "python",
   "nbconvert_exporter": "python",
   "pygments_lexer": "ipython3",
   "version": "3.8.8"
  }
 },
 "nbformat": 4,
 "nbformat_minor": 2
}
