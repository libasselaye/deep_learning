{
 "cells": [
  {
   "cell_type": "markdown",
   "metadata": {},
   "source": [
    "# TD5 : génération de texte avec un LSTM"
   ]
  },
  {
   "cell_type": "markdown",
   "metadata": {},
   "source": [
    "Ce notebook fait partie du cours sur le deep learning donné par J. Velcin et J. Cugliari à l'Université de Lyon 2 (Master Data Mining). Il reprend et détaille l'exemple donné dans le livre \"Deep Learning with Keras\" de A. Gulli et S. Pal (Packt Publishing Ltd., 2017)."
   ]
  },
  {
   "cell_type": "markdown",
   "metadata": {},
   "source": [
    "On construit tout d'abord une unique chaîne de caractères qui provient de la concaténation du texte trouvé dans un ou plusieurs fichiers txt."
   ]
  },
  {
   "cell_type": "code",
   "execution_count": 1,
   "metadata": {},
   "outputs": [],
   "source": [
    "import os\n",
    "\n",
    "lines=[]\n",
    "\n",
    "for filename in [\"rois.txt\"]:\n",
    "     with open(os.path.join(\"datasets\", filename)) as f:    \n",
    "        for r in f.readlines():\n",
    "            line = r.strip().lower()\n",
    "            if (len(line) == 0):\n",
    "                continue\n",
    "            lines.append(line)\n",
    "text = \" \".join(lines)"
   ]
  },
  {
   "cell_type": "code",
   "execution_count": 2,
   "metadata": {},
   "outputs": [],
   "source": [
    "#text = text[0:100000]\n",
    "#len(text)"
   ]
  },
  {
   "cell_type": "markdown",
   "metadata": {},
   "source": [
    "On construit un dictionnaire basé sur les caractères trouvés dans les textes car ceux-ci constituent notre *vocabulaire* puisque la génération sera réalisée caractère par caractère.\n",
    "\n",
    "On note qu'on construit un dictionnaire à double entrée."
   ]
  },
  {
   "cell_type": "code",
   "execution_count": 3,
   "metadata": {},
   "outputs": [],
   "source": [
    "chars = set([c for c in text])\n",
    "nb_chars = len(chars)\n",
    "char2index = dict((c, i) for i, c in enumerate(chars))\n",
    "index2char = dict((i, c) for i, c in enumerate(chars))"
   ]
  },
  {
   "cell_type": "code",
   "execution_count": 4,
   "metadata": {},
   "outputs": [],
   "source": [
    "#chars"
   ]
  },
  {
   "cell_type": "markdown",
   "metadata": {},
   "source": [
    "L'étape suivante consiste à construire les exemples d'apprentissage, à savoir :\n",
    "    - un ensemble de chaînes de taille fixe (par ex. 10)\n",
    "    - l'étiquette à prédire dans \"chars\", à savoir le caractère suivant\n",
    "Pour cela, on fait passer une fenêtre glissante le long du texte avec :\n",
    "$$i_1 = (c_{i-10}, c_{i-9}\\ldots c_{i-1})$$\n",
    "$$o_1 = c_i$$\n",
    "si $c_i$ est le caractère à prédire."
   ]
  },
  {
   "cell_type": "code",
   "execution_count": 5,
   "metadata": {},
   "outputs": [],
   "source": [
    "len_seq = 10\n",
    "step = 1\n",
    "input_chars = []\n",
    "label_chars = []\n",
    "for i in range(0, len(text) - len_seq, step):\n",
    "    input_chars.append(text[i:i + len_seq])\n",
    "    label_chars.append(text[i + len_seq])"
   ]
  },
  {
   "cell_type": "markdown",
   "metadata": {},
   "source": [
    "Cela revient à estimer un modèle de langue tel que :\n",
    "    $$p(c_i / c_{i-10}, c_{i-9}\\ldots c_{i-1})$$\n",
    "où p(c_i) prend une valeur parmi l'ensemble \"chars\""
   ]
  },
  {
   "cell_type": "code",
   "execution_count": 6,
   "metadata": {},
   "outputs": [
    {
     "name": "stdout",
     "output_type": "stream",
     "text": [
      "Il y a  534447  exemples d'apprentissage !\n"
     ]
    }
   ],
   "source": [
    "print(\"Il y a \", len(input_chars), \" exemples d'apprentissage !\")"
   ]
  },
  {
   "cell_type": "markdown",
   "metadata": {},
   "source": [
    "Ensuite on construit les tenseurs à la main :\n",
    "- X[i,j,k] : observation i, temps j, feature k\n",
    "- y[i,k] : observation i, feature k"
   ]
  },
  {
   "cell_type": "code",
   "execution_count": 7,
   "metadata": {},
   "outputs": [],
   "source": [
    "import numpy as np\n",
    "X = np.zeros((len(input_chars), len_seq, nb_chars), dtype=np.bool)\n",
    "y = np.zeros((len(input_chars), nb_chars), dtype=np.bool)\n",
    "for i, input_char in enumerate(input_chars):\n",
    "    for j, ch in enumerate(input_char):\n",
    "        X[i, j, char2index[ch]] = 1\n",
    "    y[i, char2index[label_chars[i]]] = 1"
   ]
  },
  {
   "cell_type": "markdown",
   "metadata": {},
   "source": [
    "Puis on construit le RNN comme dans l'exemple précédent, la différence étant que la prédiction est sur n classes, d'où l'utilisation de la couche softmax."
   ]
  },
  {
   "cell_type": "code",
   "execution_count": 8,
   "metadata": {},
   "outputs": [
    {
     "name": "stdout",
     "output_type": "stream",
     "text": [
      "Model: \"sequential\"\n",
      "_________________________________________________________________\n",
      "Layer (type)                 Output Shape              Param #   \n",
      "=================================================================\n",
      "lstm (LSTM)                  (None, 100)               69200     \n",
      "_________________________________________________________________\n",
      "dense (Dense)                (None, 72)                7272      \n",
      "_________________________________________________________________\n",
      "activation (Activation)      (None, 72)                0         \n",
      "=================================================================\n",
      "Total params: 76,472\n",
      "Trainable params: 76,472\n",
      "Non-trainable params: 0\n",
      "_________________________________________________________________\n",
      "None\n"
     ]
    }
   ],
   "source": [
    "from tensorflow.keras.layers import Dense, Activation\n",
    "from tensorflow.keras.layers import LSTM\n",
    "from tensorflow.keras.layers import Dropout\n",
    "from tensorflow.keras.models import Sequential\n",
    "\n",
    "model = Sequential()\n",
    "model.add(LSTM(100, return_sequences=False, input_shape=(len_seq, nb_chars)))\n",
    "#model.add(LSTM(10, return_sequences=False))\n",
    "#model.add(Dropout(0.5))\n",
    "model.add(Dense(nb_chars))\n",
    "model.add(Activation(\"softmax\"))\n",
    "\n",
    "model.compile(loss=\"categorical_crossentropy\", optimizer=\"rmsprop\")\n",
    "\n",
    "print(model.summary())\n"
   ]
  },
  {
   "cell_type": "markdown",
   "metadata": {},
   "source": [
    "L'optimiseur \"rmsprop\" est plus efficace sur l'estimation des paramètres d'un RNN."
   ]
  },
  {
   "cell_type": "markdown",
   "metadata": {},
   "source": [
    "Il est temps de lancer l'apprentissage proprement dit, mais en mettant en place un monitoring afin d'observer les résultat de l'apprentissage à chaque pas de temps.\n",
    "\n",
    "Pour cela, l'idée consiste à prendre un échantillon de 10 caractères au hasard et d'utiliser le modèle de langue sur une longueur de 100 caractères en prenant à chaque fois le caractère qui maximise la probabilité (*argmax*). Il serait possible de faire un tirage aléatoire à partir de p."
   ]
  },
  {
   "cell_type": "code",
   "execution_count": null,
   "metadata": {},
   "outputs": [
    {
     "name": "stdout",
     "output_type": "stream",
     "text": [
      "==================================================\n",
      "Iteration #: 0\n",
      "4176/4176 [==============================] - 91s 22ms/step - loss: 2.2059\n",
      "Generating from seed:  quelque p\n",
      " quelque parient de le reine de la comme de la chande de le reine de la comme de la chande de le reine de la c==================================================\n",
      "Iteration #: 1\n",
      "4176/4176 [==============================] - 116s 28ms/step - loss: 1.8193\n",
      "Generating from seed: ci », pens\n",
      "ci », pensait le roi de la comment de la courtait de la courtait de la courtait de la courtait de la courtait ==================================================\n",
      "Iteration #: 2\n",
      "4176/4176 [==============================] - 108s 26ms/step - loss: 1.6793\n",
      "Generating from seed: es victime\n",
      "es victiment de la complit de la complit de la complit de la complit de la complit de la complit de la complit==================================================\n",
      "Iteration #: 3\n",
      "3984/4176 [===========================>..] - ETA: 4s - loss: 1.6015-"
     ]
    }
   ],
   "source": [
    "for iteration in range(100):\n",
    "    print(\"=\"*50)\n",
    "    print(\"Iteration #: %d\" % (iteration))\n",
    "    model.fit(X,y, batch_size=128, epochs=1)\n",
    "    test_idx = np.random.randint(len(input_chars))\n",
    "    test_chars = input_chars[test_idx]\n",
    "    print(\"Generating from seed: %s\" % (test_chars))\n",
    "    print(test_chars, end=\"\")\n",
    "    for i in range(100):\n",
    "        Xtest = np.zeros((1, len_seq, nb_chars))\n",
    "        for i, ch in enumerate(test_chars):\n",
    "            Xtest[0, i, char2index[ch]] = 1\n",
    "        pred = model.predict(Xtest, verbose=0)[0]\n",
    "        ypred = index2char[np.argmax(pred)]\n",
    "            #p = np.nonzero(np.random.multinomial(1, pred))[0][0]\n",
    "            #ypred = index2char[p]\n",
    "        print(ypred, end=\"\")\n",
    "        test_chars = test_chars[1:] + ypred\n",
    "            "
   ]
  },
  {
   "cell_type": "markdown",
   "metadata": {},
   "source": [
    "mytest = \"why are yo\"\n",
    "\n",
    "for i in range(100):\n",
    "    Xtest = np.zeros((1, len_seq, nb_chars))\n",
    "    for i, ch in enumerate(mytest):\n",
    "        Xtest[0, i, char2index[ch]] = 1\n",
    "    pred = model.predict(Xtest, verbose=0)[0]\n",
    "    ypred = index2char[np.argmax(pred)]\n",
    "    print(ypred, end=\"\")\n",
    "    mytest = mytest[1:] + ypred\n"
   ]
  },
  {
   "cell_type": "code",
   "execution_count": null,
   "metadata": {},
   "outputs": [],
   "source": []
  }
 ],
 "metadata": {
  "kernelspec": {
   "display_name": "Python 3 (ipykernel)",
   "language": "python",
   "name": "python3"
  },
  "language_info": {
   "codemirror_mode": {
    "name": "ipython",
    "version": 3
   },
   "file_extension": ".py",
   "mimetype": "text/x-python",
   "name": "python",
   "nbconvert_exporter": "python",
   "pygments_lexer": "ipython3",
   "version": "3.8.8"
  }
 },
 "nbformat": 4,
 "nbformat_minor": 2
}
